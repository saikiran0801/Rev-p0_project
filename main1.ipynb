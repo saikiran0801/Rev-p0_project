{
 "cells": [
  {
   "cell_type": "code",
   "execution_count": 1,
   "id": "05539cc8-d645-4a84-9cce-cdb2676ad634",
   "metadata": {},
   "outputs": [
    {
     "data": {
      "text/html": [
       "<div>\n",
       "<style scoped>\n",
       "    .dataframe tbody tr th:only-of-type {\n",
       "        vertical-align: middle;\n",
       "    }\n",
       "\n",
       "    .dataframe tbody tr th {\n",
       "        vertical-align: top;\n",
       "    }\n",
       "\n",
       "    .dataframe thead th {\n",
       "        text-align: right;\n",
       "    }\n",
       "</style>\n",
       "<table border=\"1\" class=\"dataframe\">\n",
       "  <thead>\n",
       "    <tr style=\"text-align: right;\">\n",
       "      <th></th>\n",
       "      <th>customer_id</th>\n",
       "      <th>customer_name</th>\n",
       "      <th>country</th>\n",
       "      <th>city</th>\n",
       "    </tr>\n",
       "  </thead>\n",
       "  <tbody>\n",
       "    <tr>\n",
       "      <th>0</th>\n",
       "      <td>9780</td>\n",
       "      <td>Jessica Hart</td>\n",
       "      <td>Martinique</td>\n",
       "      <td>South William</td>\n",
       "    </tr>\n",
       "    <tr>\n",
       "      <th>1</th>\n",
       "      <td>9169</td>\n",
       "      <td>Amy Clark</td>\n",
       "      <td>Kazakhstan</td>\n",
       "      <td>Davisville</td>\n",
       "    </tr>\n",
       "    <tr>\n",
       "      <th>2</th>\n",
       "      <td>6631</td>\n",
       "      <td>Danielle Elliott</td>\n",
       "      <td>Armenia</td>\n",
       "      <td>East Danny</td>\n",
       "    </tr>\n",
       "    <tr>\n",
       "      <th>3</th>\n",
       "      <td>8772</td>\n",
       "      <td>Robin Mendoza</td>\n",
       "      <td>Uganda</td>\n",
       "      <td>Johnsonbury</td>\n",
       "    </tr>\n",
       "    <tr>\n",
       "      <th>4</th>\n",
       "      <td>8913</td>\n",
       "      <td>Abigail Miller</td>\n",
       "      <td>Namibia</td>\n",
       "      <td>Wrightchester</td>\n",
       "    </tr>\n",
       "  </tbody>\n",
       "</table>\n",
       "</div>"
      ],
      "text/plain": [
       "   customer_id     customer_name     country           city\n",
       "0         9780      Jessica Hart  Martinique  South William\n",
       "1         9169         Amy Clark  Kazakhstan     Davisville\n",
       "2         6631  Danielle Elliott     Armenia     East Danny\n",
       "3         8772     Robin Mendoza      Uganda    Johnsonbury\n",
       "4         8913    Abigail Miller     Namibia  Wrightchester"
      ]
     },
     "execution_count": 1,
     "metadata": {},
     "output_type": "execute_result"
    }
   ],
   "source": [
    "#IMPORTING DATASET\n",
    "#Using Pandas library reading CUSTOMERS.json File\n",
    "import pandas as pd\n",
    "customer_Data=pd.read_json(\"customers.json\")\n",
    "customer_Data.head()"
   ]
  },
  {
   "cell_type": "code",
   "execution_count": 2,
   "id": "fdf94c7a-2963-4f11-8830-c98e9f26fca5",
   "metadata": {},
   "outputs": [
    {
     "data": {
      "text/plain": [
       "Index(['customer_id', 'customer_name', 'country', 'city'], dtype='object')"
      ]
     },
     "execution_count": 2,
     "metadata": {},
     "output_type": "execute_result"
    }
   ],
   "source": [
    "#getting the column names of the DataFrame\n",
    "customer_Data.columns"
   ]
  },
  {
   "cell_type": "code",
   "execution_count": 3,
   "id": "2da7be51-cc26-44e3-b057-51ff351b9e65",
   "metadata": {},
   "outputs": [
    {
     "name": "stdout",
     "output_type": "stream",
     "text": [
      "     customer_id     customer_name      country           city\n",
      "0           9780      Jessica Hart   Martinique  South William\n",
      "1           9169         Amy Clark   Kazakhstan     Davisville\n",
      "2           6631  Danielle Elliott      Armenia     East Danny\n",
      "3           8772     Robin Mendoza       Uganda    Johnsonbury\n",
      "4           8913    Abigail Miller      Namibia  Wrightchester\n",
      "..           ...               ...          ...            ...\n",
      "995         6357    Jessica Castro     Dominica     Deannastad\n",
      "996          244    Cheryl Ramirez       Malawi  Martinezmouth\n",
      "997         4490   Luis Strickland        Italy     Oneilltown\n",
      "998         2984    Jennifer Kelly      Bahamas    Xavierville\n",
      "999         8760    Anthony Wilson  Switzerland      Torreston\n",
      "\n",
      "[1000 rows x 4 columns]\n"
     ]
    }
   ],
   "source": [
    "#PREPROCESSING\n",
    "\n",
    "# 1. Remove duplicates\n",
    "df= customer_Data.drop_duplicates() \n",
    "print(df)"
   ]
  },
  {
   "cell_type": "code",
   "execution_count": 111,
   "id": "2f7cfbf8-326c-46b6-a50f-75c2fb10be42",
   "metadata": {},
   "outputs": [
    {
     "ename": "KeyError",
     "evalue": "'customer_name'",
     "output_type": "error",
     "traceback": [
      "\u001b[1;31m---------------------------------------------------------------------------\u001b[0m",
      "\u001b[1;31mKeyError\u001b[0m                                  Traceback (most recent call last)",
      "File \u001b[1;32m~\\AppData\\Local\\Programs\\Python\\Python310\\lib\\site-packages\\pandas\\core\\indexes\\base.py:3805\u001b[0m, in \u001b[0;36mIndex.get_loc\u001b[1;34m(self, key)\u001b[0m\n\u001b[0;32m   3804\u001b[0m \u001b[38;5;28;01mtry\u001b[39;00m:\n\u001b[1;32m-> 3805\u001b[0m     \u001b[38;5;28;01mreturn\u001b[39;00m \u001b[38;5;28;43mself\u001b[39;49m\u001b[38;5;241;43m.\u001b[39;49m\u001b[43m_engine\u001b[49m\u001b[38;5;241;43m.\u001b[39;49m\u001b[43mget_loc\u001b[49m\u001b[43m(\u001b[49m\u001b[43mcasted_key\u001b[49m\u001b[43m)\u001b[49m\n\u001b[0;32m   3806\u001b[0m \u001b[38;5;28;01mexcept\u001b[39;00m \u001b[38;5;167;01mKeyError\u001b[39;00m \u001b[38;5;28;01mas\u001b[39;00m err:\n",
      "File \u001b[1;32mindex.pyx:167\u001b[0m, in \u001b[0;36mpandas._libs.index.IndexEngine.get_loc\u001b[1;34m()\u001b[0m\n",
      "File \u001b[1;32mindex.pyx:196\u001b[0m, in \u001b[0;36mpandas._libs.index.IndexEngine.get_loc\u001b[1;34m()\u001b[0m\n",
      "File \u001b[1;32mpandas\\\\_libs\\\\hashtable_class_helper.pxi:7081\u001b[0m, in \u001b[0;36mpandas._libs.hashtable.PyObjectHashTable.get_item\u001b[1;34m()\u001b[0m\n",
      "File \u001b[1;32mpandas\\\\_libs\\\\hashtable_class_helper.pxi:7089\u001b[0m, in \u001b[0;36mpandas._libs.hashtable.PyObjectHashTable.get_item\u001b[1;34m()\u001b[0m\n",
      "\u001b[1;31mKeyError\u001b[0m: 'customer_name'",
      "\nThe above exception was the direct cause of the following exception:\n",
      "\u001b[1;31mKeyError\u001b[0m                                  Traceback (most recent call last)",
      "Cell \u001b[1;32mIn [111], line 5\u001b[0m\n\u001b[0;32m      1\u001b[0m \u001b[38;5;66;03m# 2. Handle missing values (assuming no missing values for this example)\u001b[39;00m\n\u001b[0;32m      2\u001b[0m \u001b[38;5;66;03m# You can fill missing values like this:\u001b[39;00m\n\u001b[0;32m      3\u001b[0m \n\u001b[0;32m      4\u001b[0m \u001b[38;5;66;03m# Instead of using inplace=True with a chained assignment\u001b[39;00m\n\u001b[1;32m----> 5\u001b[0m df[\u001b[38;5;124m'\u001b[39m\u001b[38;5;124mcustomer_name\u001b[39m\u001b[38;5;124m'\u001b[39m] \u001b[38;5;241m=\u001b[39m \u001b[43mdf\u001b[49m\u001b[43m[\u001b[49m\u001b[38;5;124;43m'\u001b[39;49m\u001b[38;5;124;43mcustomer_name\u001b[39;49m\u001b[38;5;124;43m'\u001b[39;49m\u001b[43m]\u001b[49m\u001b[38;5;241m.\u001b[39mfillna(\u001b[38;5;124m'\u001b[39m\u001b[38;5;124mUnknown\u001b[39m\u001b[38;5;124m'\u001b[39m)\n\u001b[0;32m      6\u001b[0m df[\u001b[38;5;124m'\u001b[39m\u001b[38;5;124mcountry\u001b[39m\u001b[38;5;124m'\u001b[39m] \u001b[38;5;241m=\u001b[39m df[\u001b[38;5;124m'\u001b[39m\u001b[38;5;124mcountry\u001b[39m\u001b[38;5;124m'\u001b[39m]\u001b[38;5;241m.\u001b[39mfillna(\u001b[38;5;124m'\u001b[39m\u001b[38;5;124mUnknown\u001b[39m\u001b[38;5;124m'\u001b[39m)\n\u001b[0;32m      7\u001b[0m df[\u001b[38;5;124m'\u001b[39m\u001b[38;5;124mcity\u001b[39m\u001b[38;5;124m'\u001b[39m] \u001b[38;5;241m=\u001b[39m df[\u001b[38;5;124m'\u001b[39m\u001b[38;5;124mcity\u001b[39m\u001b[38;5;124m'\u001b[39m]\u001b[38;5;241m.\u001b[39mfillna(\u001b[38;5;124m'\u001b[39m\u001b[38;5;124mUnknown\u001b[39m\u001b[38;5;124m'\u001b[39m)\n",
      "File \u001b[1;32m~\\AppData\\Local\\Programs\\Python\\Python310\\lib\\site-packages\\pandas\\core\\frame.py:4102\u001b[0m, in \u001b[0;36mDataFrame.__getitem__\u001b[1;34m(self, key)\u001b[0m\n\u001b[0;32m   4100\u001b[0m \u001b[38;5;28;01mif\u001b[39;00m \u001b[38;5;28mself\u001b[39m\u001b[38;5;241m.\u001b[39mcolumns\u001b[38;5;241m.\u001b[39mnlevels \u001b[38;5;241m>\u001b[39m \u001b[38;5;241m1\u001b[39m:\n\u001b[0;32m   4101\u001b[0m     \u001b[38;5;28;01mreturn\u001b[39;00m \u001b[38;5;28mself\u001b[39m\u001b[38;5;241m.\u001b[39m_getitem_multilevel(key)\n\u001b[1;32m-> 4102\u001b[0m indexer \u001b[38;5;241m=\u001b[39m \u001b[38;5;28;43mself\u001b[39;49m\u001b[38;5;241;43m.\u001b[39;49m\u001b[43mcolumns\u001b[49m\u001b[38;5;241;43m.\u001b[39;49m\u001b[43mget_loc\u001b[49m\u001b[43m(\u001b[49m\u001b[43mkey\u001b[49m\u001b[43m)\u001b[49m\n\u001b[0;32m   4103\u001b[0m \u001b[38;5;28;01mif\u001b[39;00m is_integer(indexer):\n\u001b[0;32m   4104\u001b[0m     indexer \u001b[38;5;241m=\u001b[39m [indexer]\n",
      "File \u001b[1;32m~\\AppData\\Local\\Programs\\Python\\Python310\\lib\\site-packages\\pandas\\core\\indexes\\base.py:3812\u001b[0m, in \u001b[0;36mIndex.get_loc\u001b[1;34m(self, key)\u001b[0m\n\u001b[0;32m   3807\u001b[0m     \u001b[38;5;28;01mif\u001b[39;00m \u001b[38;5;28misinstance\u001b[39m(casted_key, \u001b[38;5;28mslice\u001b[39m) \u001b[38;5;129;01mor\u001b[39;00m (\n\u001b[0;32m   3808\u001b[0m         \u001b[38;5;28misinstance\u001b[39m(casted_key, abc\u001b[38;5;241m.\u001b[39mIterable)\n\u001b[0;32m   3809\u001b[0m         \u001b[38;5;129;01mand\u001b[39;00m \u001b[38;5;28many\u001b[39m(\u001b[38;5;28misinstance\u001b[39m(x, \u001b[38;5;28mslice\u001b[39m) \u001b[38;5;28;01mfor\u001b[39;00m x \u001b[38;5;129;01min\u001b[39;00m casted_key)\n\u001b[0;32m   3810\u001b[0m     ):\n\u001b[0;32m   3811\u001b[0m         \u001b[38;5;28;01mraise\u001b[39;00m InvalidIndexError(key)\n\u001b[1;32m-> 3812\u001b[0m     \u001b[38;5;28;01mraise\u001b[39;00m \u001b[38;5;167;01mKeyError\u001b[39;00m(key) \u001b[38;5;28;01mfrom\u001b[39;00m \u001b[38;5;21;01merr\u001b[39;00m\n\u001b[0;32m   3813\u001b[0m \u001b[38;5;28;01mexcept\u001b[39;00m \u001b[38;5;167;01mTypeError\u001b[39;00m:\n\u001b[0;32m   3814\u001b[0m     \u001b[38;5;66;03m# If we have a listlike key, _check_indexing_error will raise\u001b[39;00m\n\u001b[0;32m   3815\u001b[0m     \u001b[38;5;66;03m#  InvalidIndexError. Otherwise we fall through and re-raise\u001b[39;00m\n\u001b[0;32m   3816\u001b[0m     \u001b[38;5;66;03m#  the TypeError.\u001b[39;00m\n\u001b[0;32m   3817\u001b[0m     \u001b[38;5;28mself\u001b[39m\u001b[38;5;241m.\u001b[39m_check_indexing_error(key)\n",
      "\u001b[1;31mKeyError\u001b[0m: 'customer_name'"
     ]
    }
   ],
   "source": [
    "# 2. Handle missing values (assuming no missing values for this example)\n",
    "# You can fill missing values like this:\n",
    "\n",
    "# Instead of using inplace=True with a chained assignment\n",
    "df['customer_name'] = df['customer_name'].fillna('Unknown')\n",
    "df['country'] = df['country'].fillna('Unknown')\n",
    "df['city'] = df['city'].fillna('Unknown')"
   ]
  },
  {
   "cell_type": "code",
   "execution_count": 5,
   "id": "93882cc9-9940-49f9-9471-a5b17b1894e8",
   "metadata": {},
   "outputs": [],
   "source": [
    "#3. Data standardation \n",
    "\n",
    "df['customer_name'] = df['customer_name'].str.strip().str.title()  # Trim and title case names\n",
    "df['country'] = df['country'].str.strip().str.title()  # Trim and title case country names\n",
    "df['city'] = df['city'].str.strip().str.title()  # Trim and title case city names"
   ]
  },
  {
   "cell_type": "code",
   "execution_count": 6,
   "id": "12265e15-e475-4792-934e-9828d546db23",
   "metadata": {},
   "outputs": [],
   "source": [
    "## Standardizing country names in the dataset\n",
    "country_corrections = {\n",
    "    'Usa': 'USA',\n",
    "    'Canada': 'Canada',\n",
    "    'Us': 'USA',\n",
    "    'Ca': 'Canada'\n",
    "}\n",
    "df['country'] = df['country'].replace(country_corrections)"
   ]
  },
  {
   "cell_type": "code",
   "execution_count": 7,
   "id": "edb80507-e495-4744-89bd-169e28c86341",
   "metadata": {},
   "outputs": [
    {
     "data": {
      "text/html": [
       "<div>\n",
       "<style scoped>\n",
       "    .dataframe tbody tr th:only-of-type {\n",
       "        vertical-align: middle;\n",
       "    }\n",
       "\n",
       "    .dataframe tbody tr th {\n",
       "        vertical-align: top;\n",
       "    }\n",
       "\n",
       "    .dataframe thead th {\n",
       "        text-align: right;\n",
       "    }\n",
       "</style>\n",
       "<table border=\"1\" class=\"dataframe\">\n",
       "  <thead>\n",
       "    <tr style=\"text-align: right;\">\n",
       "      <th></th>\n",
       "      <th>customer_id</th>\n",
       "      <th>customer_name</th>\n",
       "      <th>country</th>\n",
       "      <th>city</th>\n",
       "    </tr>\n",
       "  </thead>\n",
       "  <tbody>\n",
       "    <tr>\n",
       "      <th>0</th>\n",
       "      <td>9780</td>\n",
       "      <td>Jessica Hart</td>\n",
       "      <td>Martinique</td>\n",
       "      <td>South William</td>\n",
       "    </tr>\n",
       "    <tr>\n",
       "      <th>1</th>\n",
       "      <td>9169</td>\n",
       "      <td>Amy Clark</td>\n",
       "      <td>Kazakhstan</td>\n",
       "      <td>Davisville</td>\n",
       "    </tr>\n",
       "    <tr>\n",
       "      <th>2</th>\n",
       "      <td>6631</td>\n",
       "      <td>Danielle Elliott</td>\n",
       "      <td>Armenia</td>\n",
       "      <td>East Danny</td>\n",
       "    </tr>\n",
       "    <tr>\n",
       "      <th>3</th>\n",
       "      <td>8772</td>\n",
       "      <td>Robin Mendoza</td>\n",
       "      <td>Uganda</td>\n",
       "      <td>Johnsonbury</td>\n",
       "    </tr>\n",
       "    <tr>\n",
       "      <th>4</th>\n",
       "      <td>8913</td>\n",
       "      <td>Abigail Miller</td>\n",
       "      <td>Namibia</td>\n",
       "      <td>Wrightchester</td>\n",
       "    </tr>\n",
       "  </tbody>\n",
       "</table>\n",
       "</div>"
      ],
      "text/plain": [
       "   customer_id     customer_name     country           city\n",
       "0         9780      Jessica Hart  Martinique  South William\n",
       "1         9169         Amy Clark  Kazakhstan     Davisville\n",
       "2         6631  Danielle Elliott     Armenia     East Danny\n",
       "3         8772     Robin Mendoza      Uganda    Johnsonbury\n",
       "4         8913    Abigail Miller     Namibia  Wrightchester"
      ]
     },
     "execution_count": 7,
     "metadata": {},
     "output_type": "execute_result"
    }
   ],
   "source": [
    "# Displaying the first 5 rows of the dataframe to inspect the data\n",
    "df.head()"
   ]
  },
  {
   "cell_type": "code",
   "execution_count": 8,
   "id": "8d06ed1c-faca-43f2-8f06-9b1fcab1d2c0",
   "metadata": {},
   "outputs": [],
   "source": [
    "#transcation data."
   ]
  },
  {
   "cell_type": "code",
   "execution_count": 9,
   "id": "d4eb7ddc-b2ea-499c-a7f5-2ae576e0c79d",
   "metadata": {},
   "outputs": [
    {
     "data": {
      "text/html": [
       "<div>\n",
       "<style scoped>\n",
       "    .dataframe tbody tr th:only-of-type {\n",
       "        vertical-align: middle;\n",
       "    }\n",
       "\n",
       "    .dataframe tbody tr th {\n",
       "        vertical-align: top;\n",
       "    }\n",
       "\n",
       "    .dataframe thead th {\n",
       "        text-align: right;\n",
       "    }\n",
       "</style>\n",
       "<table border=\"1\" class=\"dataframe\">\n",
       "  <thead>\n",
       "    <tr style=\"text-align: right;\">\n",
       "      <th></th>\n",
       "      <th>order_id</th>\n",
       "      <th>customer_id</th>\n",
       "      <th>product_id</th>\n",
       "      <th>product_name</th>\n",
       "      <th>product_category</th>\n",
       "      <th>payment_type</th>\n",
       "      <th>qty</th>\n",
       "      <th>price</th>\n",
       "      <th>datetime</th>\n",
       "      <th>ecommerce_website_name</th>\n",
       "      <th>payment_txn_id</th>\n",
       "      <th>payment_txn_success</th>\n",
       "      <th>failure_reason</th>\n",
       "    </tr>\n",
       "  </thead>\n",
       "  <tbody>\n",
       "    <tr>\n",
       "      <th>0</th>\n",
       "      <td>1</td>\n",
       "      <td>1731</td>\n",
       "      <td>8609</td>\n",
       "      <td>Central home &amp; kitche</td>\n",
       "      <td>Home &amp; Kitchen</td>\n",
       "      <td>Wallet</td>\n",
       "      <td>25</td>\n",
       "      <td>64216</td>\n",
       "      <td>2021-07-26 20:16:14</td>\n",
       "      <td>www.bestbuy.com</td>\n",
       "      <td>a395e8c7</td>\n",
       "      <td>N</td>\n",
       "      <td>Card Expired</td>\n",
       "    </tr>\n",
       "    <tr>\n",
       "      <th>1</th>\n",
       "      <td>2</td>\n",
       "      <td>5539</td>\n",
       "      <td>2409</td>\n",
       "      <td>Upon sport</td>\n",
       "      <td>Sports</td>\n",
       "      <td>Card</td>\n",
       "      <td>34</td>\n",
       "      <td>69877</td>\n",
       "      <td>2021-08-25 03:41:32</td>\n",
       "      <td>www.flipkart.com</td>\n",
       "      <td>b40791f8</td>\n",
       "      <td>N</td>\n",
       "      <td>Invalid CVV</td>\n",
       "    </tr>\n",
       "    <tr>\n",
       "      <th>2</th>\n",
       "      <td>3</td>\n",
       "      <td>3507</td>\n",
       "      <td>1145</td>\n",
       "      <td>Across stationer</td>\n",
       "      <td>Stationery</td>\n",
       "      <td>Card</td>\n",
       "      <td>28</td>\n",
       "      <td>35491</td>\n",
       "      <td>2024-06-21 21:39:21</td>\n",
       "      <td>www.target.com</td>\n",
       "      <td>7fb6cca9</td>\n",
       "      <td>N</td>\n",
       "      <td>Blocked Card</td>\n",
       "    </tr>\n",
       "    <tr>\n",
       "      <th>3</th>\n",
       "      <td>4</td>\n",
       "      <td>4826</td>\n",
       "      <td>8375</td>\n",
       "      <td>Start home &amp; kitche</td>\n",
       "      <td>Home &amp; Kitchen</td>\n",
       "      <td>Card</td>\n",
       "      <td>33</td>\n",
       "      <td>39540</td>\n",
       "      <td>2022-09-17 13:52:11</td>\n",
       "      <td>www.amazon.in</td>\n",
       "      <td>cae677f3</td>\n",
       "      <td>N</td>\n",
       "      <td>Transaction Timeout</td>\n",
       "    </tr>\n",
       "    <tr>\n",
       "      <th>4</th>\n",
       "      <td>5</td>\n",
       "      <td>6538</td>\n",
       "      <td>2149</td>\n",
       "      <td>Draw beaut</td>\n",
       "      <td>Beauty</td>\n",
       "      <td>Card</td>\n",
       "      <td>27</td>\n",
       "      <td>80635</td>\n",
       "      <td>2022-03-09 07:58:08</td>\n",
       "      <td>www.etsy.com</td>\n",
       "      <td>fbce1649</td>\n",
       "      <td>N</td>\n",
       "      <td>Invalid CVV</td>\n",
       "    </tr>\n",
       "  </tbody>\n",
       "</table>\n",
       "</div>"
      ],
      "text/plain": [
       "   order_id  customer_id  product_id           product_name product_category  \\\n",
       "0         1         1731        8609  Central home & kitche   Home & Kitchen   \n",
       "1         2         5539        2409             Upon sport           Sports   \n",
       "2         3         3507        1145       Across stationer       Stationery   \n",
       "3         4         4826        8375    Start home & kitche   Home & Kitchen   \n",
       "4         5         6538        2149             Draw beaut           Beauty   \n",
       "\n",
       "  payment_type  qty  price            datetime ecommerce_website_name  \\\n",
       "0       Wallet   25  64216 2021-07-26 20:16:14        www.bestbuy.com   \n",
       "1         Card   34  69877 2021-08-25 03:41:32       www.flipkart.com   \n",
       "2         Card   28  35491 2024-06-21 21:39:21         www.target.com   \n",
       "3         Card   33  39540 2022-09-17 13:52:11          www.amazon.in   \n",
       "4         Card   27  80635 2022-03-09 07:58:08           www.etsy.com   \n",
       "\n",
       "  payment_txn_id payment_txn_success       failure_reason  \n",
       "0       a395e8c7                   N         Card Expired  \n",
       "1       b40791f8                   N          Invalid CVV  \n",
       "2       7fb6cca9                   N         Blocked Card  \n",
       "3       cae677f3                   N  Transaction Timeout  \n",
       "4       fbce1649                   N          Invalid CVV  "
      ]
     },
     "execution_count": 9,
     "metadata": {},
     "output_type": "execute_result"
    }
   ],
   "source": [
    "#IMPORTING DATASET\n",
    "#Using Pandas library reading CUSTOMERS.json File\n",
    "transaction_Data=pd.read_json(\"transaction_logs.json\")\n",
    "transaction_Data.head()"
   ]
  },
  {
   "cell_type": "code",
   "execution_count": 10,
   "id": "7d56ca1a-45d2-4b18-b724-2ff840d998d2",
   "metadata": {},
   "outputs": [
    {
     "data": {
      "text/plain": [
       "Index(['order_id', 'customer_id', 'product_id', 'product_name',\n",
       "       'product_category', 'payment_type', 'qty', 'price', 'datetime',\n",
       "       'ecommerce_website_name', 'payment_txn_id', 'payment_txn_success',\n",
       "       'failure_reason'],\n",
       "      dtype='object')"
      ]
     },
     "execution_count": 10,
     "metadata": {},
     "output_type": "execute_result"
    }
   ],
   "source": [
    "#getting the column names of the DataFrame\n",
    "transaction_Data.columns"
   ]
  },
  {
   "cell_type": "code",
   "execution_count": 11,
   "id": "762f235e-4609-4274-9a87-d79a346e9b48",
   "metadata": {},
   "outputs": [
    {
     "name": "stdout",
     "output_type": "stream",
     "text": [
      "      order_id  customer_id  product_id           product_name  \\\n",
      "0            1         1731        8609  Central home & kitche   \n",
      "1            2         5539        2409             Upon sport   \n",
      "2            3         3507        1145       Across stationer   \n",
      "3            4         4826        8375    Start home & kitche   \n",
      "4            5         6538        2149             Draw beaut   \n",
      "...        ...          ...         ...                    ...   \n",
      "9995      9996         1496        9676    Range home & kitche   \n",
      "9996      9997         7288        9927               Once toy   \n",
      "9997      9998         8381        3852            Human beaut   \n",
      "9998      9999         5494        7324            Light beaut   \n",
      "9999     10000         1490        6547        Source furnitur   \n",
      "\n",
      "     product_category      payment_type  qty  price            datetime  \\\n",
      "0      Home & Kitchen            Wallet   25  64216 2021-07-26 20:16:14   \n",
      "1              Sports              Card   34  69877 2021-08-25 03:41:32   \n",
      "2          Stationery              Card   28  35491 2024-06-21 21:39:21   \n",
      "3      Home & Kitchen              Card   33  39540 2022-09-17 13:52:11   \n",
      "4              Beauty              Card   27  80635 2022-03-09 07:58:08   \n",
      "...               ...               ...  ...    ...                 ...   \n",
      "9995   Home & Kitchen            Wallet   39  61151 2024-03-17 09:06:05   \n",
      "9996             Toys  Internet Banking   44  53963 2024-06-17 08:04:22   \n",
      "9997           Beauty               UPI   48  26032 2023-02-05 04:20:30   \n",
      "9998           Beauty               UPI   17  28277 2024-02-17 03:05:57   \n",
      "9999        Furniture               UPI   34  91020 2023-01-11 03:02:53   \n",
      "\n",
      "     ecommerce_website_name payment_txn_id payment_txn_success  \\\n",
      "0           www.bestbuy.com       a395e8c7                   N   \n",
      "1          www.flipkart.com       b40791f8                   N   \n",
      "2            www.target.com       7fb6cca9                   N   \n",
      "3             www.amazon.in       cae677f3                   N   \n",
      "4              www.etsy.com       fbce1649                   N   \n",
      "...                     ...            ...                 ...   \n",
      "9995            www.ebay.in       03c982f7                   Y   \n",
      "9996          www.amazon.in       46bd0811                   N   \n",
      "9997       www.tatacliq.com       d115279c                   Y   \n",
      "9998           www.etsy.com       6d1628b3                   N   \n",
      "9999       www.flipkart.com       224381cd                   N   \n",
      "\n",
      "           failure_reason  \n",
      "0            Card Expired  \n",
      "1             Invalid CVV  \n",
      "2            Blocked Card  \n",
      "3     Transaction Timeout  \n",
      "4             Invalid CVV  \n",
      "...                   ...  \n",
      "9995                       \n",
      "9996         Blocked Card  \n",
      "9997                       \n",
      "9998         Card Expired  \n",
      "9999   Insufficient Funds  \n",
      "\n",
      "[10000 rows x 13 columns]\n"
     ]
    },
    {
     "data": {
      "text/plain": [
       "Index(['order_id', 'customer_id', 'product_id', 'product_name',\n",
       "       'product_category', 'payment_type', 'qty', 'price', 'datetime',\n",
       "       'ecommerce_website_name', 'payment_txn_id', 'payment_txn_success',\n",
       "       'failure_reason'],\n",
       "      dtype='object')"
      ]
     },
     "execution_count": 11,
     "metadata": {},
     "output_type": "execute_result"
    }
   ],
   "source": [
    "#PREPROCESSING\n",
    "# 1. Remove duplicates\n",
    "df= transaction_Data.drop_duplicates() \n",
    "print(df)\n",
    "\n",
    "df.columns"
   ]
  },
  {
   "cell_type": "code",
   "execution_count": 12,
   "id": "da358720-e027-45f5-aedd-0bb131e6a1e5",
   "metadata": {},
   "outputs": [
    {
     "name": "stdout",
     "output_type": "stream",
     "text": [
      "      order_id  customer_id  product_id           product_name  \\\n",
      "0            1         1731        8609  Central Home & Kitche   \n",
      "1            2         5539        2409             Upon Sport   \n",
      "2            3         3507        1145       Across Stationer   \n",
      "3            4         4826        8375    Start Home & Kitche   \n",
      "4            5         6538        2149             Draw Beaut   \n",
      "...        ...          ...         ...                    ...   \n",
      "9995      9996         1496        9676    Range Home & Kitche   \n",
      "9996      9997         7288        9927               Once Toy   \n",
      "9997      9998         8381        3852            Human Beaut   \n",
      "9998      9999         5494        7324            Light Beaut   \n",
      "9999     10000         1490        6547        Source Furnitur   \n",
      "\n",
      "     product_category      payment_type  qty  price            datetime  \\\n",
      "0      Home & Kitchen            Wallet   25  64216 2021-07-26 20:16:14   \n",
      "1              Sports              Card   34  69877 2021-08-25 03:41:32   \n",
      "2          Stationery              Card   28  35491 2024-06-21 21:39:21   \n",
      "3      Home & Kitchen              Card   33  39540 2022-09-17 13:52:11   \n",
      "4              Beauty              Card   27  80635 2022-03-09 07:58:08   \n",
      "...               ...               ...  ...    ...                 ...   \n",
      "9995   Home & Kitchen            Wallet   39  61151 2024-03-17 09:06:05   \n",
      "9996             Toys  Internet Banking   44  53963 2024-06-17 08:04:22   \n",
      "9997           Beauty               Upi   48  26032 2023-02-05 04:20:30   \n",
      "9998           Beauty               Upi   17  28277 2024-02-17 03:05:57   \n",
      "9999        Furniture               Upi   34  91020 2023-01-11 03:02:53   \n",
      "\n",
      "     ecommerce_website_name payment_txn_id payment_txn_success  \\\n",
      "0           Www.Bestbuy.Com       a395e8c7                   N   \n",
      "1          Www.Flipkart.Com       b40791f8                   N   \n",
      "2            Www.Target.Com       7fb6cca9                   N   \n",
      "3             Www.Amazon.In       cae677f3                   N   \n",
      "4              Www.Etsy.Com       fbce1649                   N   \n",
      "...                     ...            ...                 ...   \n",
      "9995            Www.Ebay.In       03c982f7                   Y   \n",
      "9996          Www.Amazon.In       46bd0811                   N   \n",
      "9997       Www.Tatacliq.Com       d115279c                   Y   \n",
      "9998           Www.Etsy.Com       6d1628b3                   N   \n",
      "9999       Www.Flipkart.Com       224381cd                   N   \n",
      "\n",
      "           failure_reason  \n",
      "0            Card Expired  \n",
      "1             Invalid Cvv  \n",
      "2            Blocked Card  \n",
      "3     Transaction Timeout  \n",
      "4             Invalid Cvv  \n",
      "...                   ...  \n",
      "9995                       \n",
      "9996         Blocked Card  \n",
      "9997                       \n",
      "9998         Card Expired  \n",
      "9999   Insufficient Funds  \n",
      "\n",
      "[10000 rows x 13 columns]\n"
     ]
    }
   ],
   "source": [
    "# Clean and standardize text data by trimming whitespace and applying title case to specified columns\n",
    "columns_to_clean = [\n",
    "    'product_name', 'product_category', 'payment_type',\n",
    "    'ecommerce_website_name', 'failure_reason'\n",
    "]\n",
    "\n",
    "# Apply trimming and title-casing to the selected columns\n",
    "for column in columns_to_clean:\n",
    "    if df[column].dtype == \"object\":\n",
    "        df[column] = df[column].str.strip().str.title()\n",
    "\n",
    "# Display the cleaned DataFrame\n",
    "print(df)"
   ]
  },
  {
   "cell_type": "code",
   "execution_count": 13,
   "id": "26aef9d6-f83c-435c-bbb4-dd72b6f73c71",
   "metadata": {},
   "outputs": [
    {
     "name": "stdout",
     "output_type": "stream",
     "text": [
      "Connection to MySQL server established.\n"
     ]
    }
   ],
   "source": [
    "# STEP 3\n",
    "# Establish database connection and normalize datasets\n",
    "# Import user-defined module 'p0' for connecting MySQL with Python\n",
    "\n",
    "import p0 \n",
    "db,cursor=p0.create_database_connection()"
   ]
  },
  {
   "cell_type": "code",
   "execution_count": 14,
   "id": "cf43222f-0561-415b-a377-f8deb5821ca0",
   "metadata": {},
   "outputs": [
    {
     "name": "stdout",
     "output_type": "stream",
     "text": [
      "Database 'sai6' created or already exists.\n"
     ]
    }
   ],
   "source": [
    "# Create a new database named 'sai6' using the established connection\n",
    "p0.create_database(cursor,\"sai6\")"
   ]
  },
  {
   "cell_type": "code",
   "execution_count": 15,
   "id": "0615f77e-ca22-4b6f-beb4-f0dc9267865c",
   "metadata": {},
   "outputs": [
    {
     "name": "stdout",
     "output_type": "stream",
     "text": [
      "Databases:\n",
      "college\n",
      "information_schema\n",
      "mysql\n",
      "performance_schema\n",
      "project_p0\n",
      "projectp0\n",
      "revature\n",
      "sai6\n",
      "sys\n"
     ]
    }
   ],
   "source": [
    "# View all databases available in the MySQL\n",
    "p0.view_databases(cursor)"
   ]
  },
  {
   "cell_type": "code",
   "execution_count": 16,
   "id": "d8e01c55-ef78-4b22-a6e4-110d235eb978",
   "metadata": {},
   "outputs": [
    {
     "name": "stdout",
     "output_type": "stream",
     "text": [
      "Using database 'projectp0'.\n"
     ]
    }
   ],
   "source": [
    "# Select and switch to the database named 'projectp0'\n",
    "p0.use_database(cursor, \"projectp0\")"
   ]
  },
  {
   "cell_type": "code",
   "execution_count": 17,
   "id": "5e084f0a-acca-4adb-a2dd-08092b1614b0",
   "metadata": {},
   "outputs": [
    {
     "name": "stdout",
     "output_type": "stream",
     "text": [
      "Database 'sai6' deleted.\n"
     ]
    }
   ],
   "source": [
    "#Deleting a database named 'sai6' \n",
    "p0.delete_database(cursor, \"sai6\")"
   ]
  },
  {
   "cell_type": "code",
   "execution_count": 18,
   "id": "f7d43ea7-5ffe-486e-95d4-cff18ce607a8",
   "metadata": {},
   "outputs": [],
   "source": [
    "# Import user-defined module 'DDL' for performing DDL commands\n",
    "# Define SQL queries to create necessary tables for the project database\n",
    "\n",
    "import DDL\n",
    "\n",
    "# Create 'products' table to store product details\n",
    "create_products_query = \"\"\"\n",
    "        CREATE TABLE IF NOT EXISTS products (\n",
    "            product_id INT PRIMARY KEY,\n",
    "            product_name VARCHAR(255) NOT NULL,\n",
    "            product_category VARCHAR(255)\n",
    "        );\n",
    "        \"\"\"\n",
    "\n",
    "# Create 'customers' table to store customer information\n",
    "create_customers_query = \"\"\"\n",
    "        CREATE TABLE IF NOT EXISTS customers (\n",
    "            customer_id INT PRIMARY KEY,\n",
    "            customer_name VARCHAR(255) NOT NULL,\n",
    "            country VARCHAR(255),\n",
    "            city VARCHAR(255)\n",
    "        );\n",
    "        \"\"\"\n",
    "        \n",
    "# Create 'ecommerce_websites' table to store details of e-commerce platforms\n",
    "create_ecommerce_websites_query = \"\"\"\n",
    "        CREATE TABLE IF NOT EXISTS ecommerce_websites (\n",
    "            website_id INT PRIMARY KEY,\n",
    "            ecommerce_website_name VARCHAR(255) UNIQUE NOT NULL\n",
    "        );\n",
    "        \"\"\"\n",
    "        \n",
    "# Create 'payment_transactions' table to store payment transaction details\n",
    "create_payment_transactions_query = \"\"\"\n",
    "        CREATE TABLE IF NOT EXISTS payment_transactions (\n",
    "            payment_txn_id VARCHAR(255) PRIMARY KEY,\n",
    "            payment_txn_success BOOLEAN,\n",
    "            failure_reason TEXT\n",
    "        );\n",
    "        \"\"\"\n",
    "        \n",
    "# Create 'transactions' table to store order details, linking customers, products, websites, and payment transactions\n",
    "create_transactions_query = \"\"\"\n",
    "        CREATE TABLE IF NOT EXISTS transactions (\n",
    "            order_id INT PRIMARY KEY,\n",
    "            customer_id INT,\n",
    "            product_id INT,\n",
    "            qty INT,\n",
    "            price DECIMAL(10, 2),\n",
    "            datetime DATETIME,\n",
    "            ecommerce_website_id INT,\n",
    "            payment_txn_id VARCHAR(255),\n",
    "            FOREIGN KEY (customer_id) REFERENCES customers(customer_id),\n",
    "            FOREIGN KEY (product_id) REFERENCES products(product_id),\n",
    "            FOREIGN KEY (ecommerce_website_id) REFERENCES ecommerce_websites(website_id),\n",
    "            FOREIGN KEY (payment_txn_id) REFERENCES payment_transactions(payment_txn_id)\n",
    "        );\n",
    "        \"\"\"\n"
   ]
  },
  {
   "cell_type": "code",
   "execution_count": 19,
   "id": "c727715f-b0f2-4c10-938a-c7928a84d2d2",
   "metadata": {},
   "outputs": [
    {
     "name": "stdout",
     "output_type": "stream",
     "text": [
      "Table 'products' created successfully.\n",
      "Table 'customers' created successfully.\n",
      "Table 'ecommerce_websites' created successfully.\n",
      "Table 'payment_transactions' created successfully.\n",
      "Table 'transactions' created successfully.\n"
     ]
    }
   ],
   "source": [
    "\n",
    "\"\"\"\n",
    "Use the DDL module to create 'products', 'customers', 'ecommerce_websites', \n",
    "'payment_transactions', and 'transactions' tables\n",
    "\"\"\"\n",
    "\n",
    "DDL.create_table(cursor, \"products\", create_products_query)\n",
    "DDL.create_table(cursor, \"customers\", create_customers_query)\n",
    "DDL.create_table(cursor, \"ecommerce_websites\", create_ecommerce_websites_query)\n",
    "DDL.create_table(cursor, \"payment_transactions\", create_payment_transactions_query)\n",
    "DDL.create_table(cursor, \"transactions\", create_transactions_query)"
   ]
  },
  {
   "cell_type": "code",
   "execution_count": 20,
   "id": "b6fe347b-6f67-4fee-9356-2b0ec87917c4",
   "metadata": {},
   "outputs": [
    {
     "name": "stdout",
     "output_type": "stream",
     "text": [
      "Tables:\n",
      "customers\n",
      "ecommerce_websites\n",
      "orders\n",
      "payment_transactions\n",
      "payments\n",
      "products\n",
      "transactions\n"
     ]
    }
   ],
   "source": [
    "# View all tables available in the MySQL\n",
    "DDL.view_tables(cursor)"
   ]
  },
  {
   "cell_type": "code",
   "execution_count": 21,
   "id": "a057887e-fa79-4fff-b31b-b8f004ab2bad",
   "metadata": {},
   "outputs": [
    {
     "name": "stdout",
     "output_type": "stream",
     "text": [
      "Structure of table 'transactions':\n",
      "('order_id', 'int', 'NO', 'PRI', None, 'auto_increment')\n",
      "('customer_id', 'int', 'YES', 'MUL', None, '')\n",
      "('product_id', 'int', 'YES', 'MUL', None, '')\n",
      "('qty', 'int', 'YES', '', None, '')\n",
      "('price', 'decimal(10,2)', 'YES', '', None, '')\n",
      "('datetime', 'datetime', 'YES', '', None, '')\n",
      "('ecommerce_website_id', 'int', 'YES', 'MUL', None, '')\n",
      "('payment_txn_id', 'varchar(255)', 'YES', 'MUL', None, '')\n"
     ]
    }
   ],
   "source": [
    "# Describe the 'transactions' table\n",
    "DDL.describe_table(cursor,'transactions')"
   ]
  },
  {
   "cell_type": "code",
   "execution_count": 22,
   "id": "d387d81d-b8fb-4b85-b4f7-8ecb9831ccb8",
   "metadata": {},
   "outputs": [
    {
     "name": "stdout",
     "output_type": "stream",
     "text": [
      "Structure of table 'payment_transactions':\n",
      "('payment_txn_id', 'varchar(255)', 'NO', 'PRI', None, '')\n",
      "('payment_txn_success', 'tinyint(1)', 'YES', '', None, '')\n",
      "('failure_reason', 'text', 'YES', '', None, '')\n"
     ]
    }
   ],
   "source": [
    "# Describe the 'payment_transactions' table\n",
    "DDL.describe_table(cursor,'payment_transactions')"
   ]
  },
  {
   "cell_type": "code",
   "execution_count": 23,
   "id": "6f3ad692-871f-485d-af43-43ca37641706",
   "metadata": {},
   "outputs": [
    {
     "name": "stdout",
     "output_type": "stream",
     "text": [
      "Structure of table 'ecommerce_websites':\n",
      "('website_id', 'int', 'NO', 'PRI', None, 'auto_increment')\n",
      "('ecommerce_website_name', 'varchar(255)', 'NO', 'UNI', None, '')\n"
     ]
    }
   ],
   "source": [
    "# Describe the 'ecommerce_websites' table\n",
    "DDL.describe_table(cursor,'ecommerce_websites')"
   ]
  },
  {
   "cell_type": "code",
   "execution_count": 24,
   "id": "913567d2-9315-4cda-971d-7375e95ac1a3",
   "metadata": {},
   "outputs": [
    {
     "name": "stdout",
     "output_type": "stream",
     "text": [
      "Structure of table 'customers':\n",
      "('customer_id', 'int', 'NO', 'PRI', None, '')\n",
      "('customer_name', 'varchar(255)', 'NO', '', None, '')\n",
      "('country', 'varchar(100)', 'YES', '', None, '')\n",
      "('city', 'varchar(100)', 'YES', '', None, '')\n"
     ]
    }
   ],
   "source": [
    "# Describe the 'ecommerce_websites' table\n",
    "DDL.describe_table(cursor,'customers')"
   ]
  },
  {
   "cell_type": "code",
   "execution_count": 25,
   "id": "fefba444-90ab-4b84-8695-aefc96450da7",
   "metadata": {},
   "outputs": [
    {
     "name": "stdout",
     "output_type": "stream",
     "text": [
      "Structure of table 'products':\n",
      "('product_id', 'int', 'NO', 'PRI', None, '')\n",
      "('product_name', 'varchar(255)', 'NO', '', None, '')\n",
      "('product_category', 'varchar(100)', 'YES', '', None, '')\n",
      "('ips1', 'varchar(100)', 'YES', '', None, '')\n"
     ]
    }
   ],
   "source": [
    "# Describe the 'products' table\n",
    "DDL.describe_table(cursor,\"products\")"
   ]
  },
  {
   "cell_type": "code",
   "execution_count": 47,
   "id": "2bf104da-b712-4a9b-b00c-90acc24f31ed",
   "metadata": {},
   "outputs": [
    {
     "name": "stdout",
     "output_type": "stream",
     "text": [
      "Table 'products' altered successfully.\n"
     ]
    }
   ],
   "source": [
    "#Adding a Column to the Products table using \"ALTER\" \n",
    "DDL.alter_table(cursor,'products' ,'''\n",
    "ALTER TABLE products ADD ips1 INT;''')"
   ]
  },
  {
   "cell_type": "code",
   "execution_count": 48,
   "id": "9e3482e9-97a4-4c2e-a205-ed032cd3d62a",
   "metadata": {},
   "outputs": [
    {
     "name": "stdout",
     "output_type": "stream",
     "text": [
      "Structure of table 'products':\n",
      "('product_id', 'int', 'NO', 'PRI', None, '')\n",
      "('product_name', 'varchar(255)', 'NO', '', None, '')\n",
      "('product_category', 'varchar(100)', 'YES', '', None, '')\n",
      "('ips1', 'int', 'YES', '', None, '')\n"
     ]
    }
   ],
   "source": [
    "DDL.describe_table(cursor,\"products\")"
   ]
  },
  {
   "cell_type": "code",
   "execution_count": 49,
   "id": "9ebec2ef-9551-44c0-83f9-ad6c659ebf22",
   "metadata": {},
   "outputs": [
    {
     "name": "stdout",
     "output_type": "stream",
     "text": [
      "Table 'products' altered successfully.\n"
     ]
    }
   ],
   "source": [
    "#Modifying a Column to the Products table using \"ALTER\"\n",
    "DDL.alter_table(cursor,'products' ,'''\n",
    "ALTER TABLE products modify ips1 varchar(100);''')"
   ]
  },
  {
   "cell_type": "code",
   "execution_count": 50,
   "id": "3c4e25df-162c-4636-8e69-c27f893a0bb7",
   "metadata": {},
   "outputs": [
    {
     "name": "stdout",
     "output_type": "stream",
     "text": [
      "Structure of table 'products':\n",
      "('product_id', 'int', 'NO', 'PRI', None, '')\n",
      "('product_name', 'varchar(255)', 'NO', '', None, '')\n",
      "('product_category', 'varchar(100)', 'YES', '', None, '')\n",
      "('ips1', 'varchar(100)', 'YES', '', None, '')\n"
     ]
    }
   ],
   "source": [
    "DDL.describe_table(cursor,\"products\")"
   ]
  },
  {
   "cell_type": "code",
   "execution_count": 51,
   "id": "a4d882db-23a3-4fb9-b3a2-fc8b58d4bfb5",
   "metadata": {},
   "outputs": [
    {
     "name": "stdout",
     "output_type": "stream",
     "text": [
      "Table 'products' altered successfully.\n"
     ]
    }
   ],
   "source": [
    "#Deleting a Column to the Products table using \"ALTER\"\n",
    "\n",
    "DDL.alter_table(cursor,'products' ,'''\n",
    "ALTER TABLE products drop ips1;''')"
   ]
  },
  {
   "cell_type": "code",
   "execution_count": 103,
   "id": "3409c790-3be6-4cd0-8157-3b99463053b1",
   "metadata": {},
   "outputs": [
    {
     "ename": "NameError",
     "evalue": "name 'mysql' is not defined",
     "output_type": "error",
     "traceback": [
      "\u001b[1;31m---------------------------------------------------------------------------\u001b[0m",
      "\u001b[1;31mMySQLInterfaceError\u001b[0m                       Traceback (most recent call last)",
      "File \u001b[1;32m~\\AppData\\Local\\Programs\\Python\\Python310\\lib\\site-packages\\mysql\\connector\\connection_cext.py:705\u001b[0m, in \u001b[0;36mCMySQLConnection.cmd_query\u001b[1;34m(self, query, raw, buffered, raw_as_string)\u001b[0m\n\u001b[0;32m    704\u001b[0m         query \u001b[38;5;241m=\u001b[39m query\u001b[38;5;241m.\u001b[39mencode(\u001b[38;5;124m\"\u001b[39m\u001b[38;5;124mutf-8\u001b[39m\u001b[38;5;124m\"\u001b[39m)\n\u001b[1;32m--> 705\u001b[0m     \u001b[38;5;28;43mself\u001b[39;49m\u001b[38;5;241;43m.\u001b[39;49m\u001b[43m_cmysql\u001b[49m\u001b[38;5;241;43m.\u001b[39;49m\u001b[43mquery\u001b[49m\u001b[43m(\u001b[49m\n\u001b[0;32m    706\u001b[0m \u001b[43m        \u001b[49m\u001b[43mquery\u001b[49m\u001b[43m,\u001b[49m\n\u001b[0;32m    707\u001b[0m \u001b[43m        \u001b[49m\u001b[43mraw\u001b[49m\u001b[38;5;241;43m=\u001b[39;49m\u001b[43mraw\u001b[49m\u001b[43m,\u001b[49m\n\u001b[0;32m    708\u001b[0m \u001b[43m        \u001b[49m\u001b[43mbuffered\u001b[49m\u001b[38;5;241;43m=\u001b[39;49m\u001b[43mbuffered\u001b[49m\u001b[43m,\u001b[49m\n\u001b[0;32m    709\u001b[0m \u001b[43m        \u001b[49m\u001b[43mraw_as_string\u001b[49m\u001b[38;5;241;43m=\u001b[39;49m\u001b[43mraw_as_string\u001b[49m\u001b[43m,\u001b[49m\n\u001b[0;32m    710\u001b[0m \u001b[43m        \u001b[49m\u001b[43mquery_attrs\u001b[49m\u001b[38;5;241;43m=\u001b[39;49m\u001b[38;5;28;43mself\u001b[39;49m\u001b[38;5;241;43m.\u001b[39;49m\u001b[43mquery_attrs\u001b[49m\u001b[43m,\u001b[49m\n\u001b[0;32m    711\u001b[0m \u001b[43m    \u001b[49m\u001b[43m)\u001b[49m\n\u001b[0;32m    712\u001b[0m \u001b[38;5;28;01mexcept\u001b[39;00m MySQLInterfaceError \u001b[38;5;28;01mas\u001b[39;00m err:\n",
      "\u001b[1;31mMySQLInterfaceError\u001b[0m: Can't DROP 'ips'; check that column/key exists",
      "\nThe above exception was the direct cause of the following exception:\n",
      "\u001b[1;31mProgrammingError\u001b[0m                          Traceback (most recent call last)",
      "File \u001b[1;32m~\\project_p0\\DDL.py:39\u001b[0m, in \u001b[0;36malter_table\u001b[1;34m(cursor, table_name, alter_query)\u001b[0m\n\u001b[0;32m     38\u001b[0m \u001b[38;5;28;01mtry\u001b[39;00m:\n\u001b[1;32m---> 39\u001b[0m     \u001b[43mcursor\u001b[49m\u001b[38;5;241;43m.\u001b[39;49m\u001b[43mexecute\u001b[49m\u001b[43m(\u001b[49m\u001b[43malter_query\u001b[49m\u001b[43m)\u001b[49m\n\u001b[0;32m     40\u001b[0m     \u001b[38;5;28mprint\u001b[39m(\u001b[38;5;124mf\u001b[39m\u001b[38;5;124m\"\u001b[39m\u001b[38;5;124mTable \u001b[39m\u001b[38;5;124m'\u001b[39m\u001b[38;5;132;01m{\u001b[39;00mtable_name\u001b[38;5;132;01m}\u001b[39;00m\u001b[38;5;124m'\u001b[39m\u001b[38;5;124m altered successfully.\u001b[39m\u001b[38;5;124m\"\u001b[39m)\n",
      "File \u001b[1;32m~\\AppData\\Local\\Programs\\Python\\Python310\\lib\\site-packages\\mysql\\connector\\cursor_cext.py:357\u001b[0m, in \u001b[0;36mCMySQLCursor.execute\u001b[1;34m(self, operation, params, multi)\u001b[0m\n\u001b[0;32m    356\u001b[0m \u001b[38;5;28;01mtry\u001b[39;00m:\n\u001b[1;32m--> 357\u001b[0m     result \u001b[38;5;241m=\u001b[39m \u001b[38;5;28;43mself\u001b[39;49m\u001b[38;5;241;43m.\u001b[39;49m\u001b[43m_connection\u001b[49m\u001b[38;5;241;43m.\u001b[39;49m\u001b[43mcmd_query\u001b[49m\u001b[43m(\u001b[49m\n\u001b[0;32m    358\u001b[0m \u001b[43m        \u001b[49m\u001b[43mstmt\u001b[49m\u001b[43m,\u001b[49m\n\u001b[0;32m    359\u001b[0m \u001b[43m        \u001b[49m\u001b[43mraw\u001b[49m\u001b[38;5;241;43m=\u001b[39;49m\u001b[38;5;28;43mself\u001b[39;49m\u001b[38;5;241;43m.\u001b[39;49m\u001b[43m_raw\u001b[49m\u001b[43m,\u001b[49m\n\u001b[0;32m    360\u001b[0m \u001b[43m        \u001b[49m\u001b[43mbuffered\u001b[49m\u001b[38;5;241;43m=\u001b[39;49m\u001b[38;5;28;43mself\u001b[39;49m\u001b[38;5;241;43m.\u001b[39;49m\u001b[43m_buffered\u001b[49m\u001b[43m,\u001b[49m\n\u001b[0;32m    361\u001b[0m \u001b[43m        \u001b[49m\u001b[43mraw_as_string\u001b[49m\u001b[38;5;241;43m=\u001b[39;49m\u001b[38;5;28;43mself\u001b[39;49m\u001b[38;5;241;43m.\u001b[39;49m\u001b[43m_raw_as_string\u001b[49m\u001b[43m,\u001b[49m\n\u001b[0;32m    362\u001b[0m \u001b[43m    \u001b[49m\u001b[43m)\u001b[49m\n\u001b[0;32m    363\u001b[0m \u001b[38;5;28;01mexcept\u001b[39;00m MySQLInterfaceError \u001b[38;5;28;01mas\u001b[39;00m err:\n",
      "File \u001b[1;32m~\\AppData\\Local\\Programs\\Python\\Python310\\lib\\site-packages\\mysql\\connector\\opentelemetry\\context_propagation.py:97\u001b[0m, in \u001b[0;36mwith_context_propagation.<locals>.wrapper\u001b[1;34m(cnx, *args, **kwargs)\u001b[0m\n\u001b[0;32m     96\u001b[0m \u001b[38;5;28;01mif\u001b[39;00m \u001b[38;5;129;01mnot\u001b[39;00m OTEL_ENABLED \u001b[38;5;129;01mor\u001b[39;00m \u001b[38;5;129;01mnot\u001b[39;00m cnx\u001b[38;5;241m.\u001b[39motel_context_propagation:\n\u001b[1;32m---> 97\u001b[0m     \u001b[38;5;28;01mreturn\u001b[39;00m method(cnx, \u001b[38;5;241m*\u001b[39margs, \u001b[38;5;241m*\u001b[39m\u001b[38;5;241m*\u001b[39mkwargs)\n\u001b[0;32m     99\u001b[0m current_span \u001b[38;5;241m=\u001b[39m trace\u001b[38;5;241m.\u001b[39mget_current_span()\n",
      "File \u001b[1;32m~\\AppData\\Local\\Programs\\Python\\Python310\\lib\\site-packages\\mysql\\connector\\connection_cext.py:713\u001b[0m, in \u001b[0;36mCMySQLConnection.cmd_query\u001b[1;34m(self, query, raw, buffered, raw_as_string)\u001b[0m\n\u001b[0;32m    712\u001b[0m \u001b[38;5;28;01mexcept\u001b[39;00m MySQLInterfaceError \u001b[38;5;28;01mas\u001b[39;00m err:\n\u001b[1;32m--> 713\u001b[0m     \u001b[38;5;28;01mraise\u001b[39;00m get_mysql_exception(\n\u001b[0;32m    714\u001b[0m         err\u001b[38;5;241m.\u001b[39merrno, msg\u001b[38;5;241m=\u001b[39merr\u001b[38;5;241m.\u001b[39mmsg, sqlstate\u001b[38;5;241m=\u001b[39merr\u001b[38;5;241m.\u001b[39msqlstate\n\u001b[0;32m    715\u001b[0m     ) \u001b[38;5;28;01mfrom\u001b[39;00m \u001b[38;5;21;01merr\u001b[39;00m\n\u001b[0;32m    716\u001b[0m \u001b[38;5;28;01mexcept\u001b[39;00m \u001b[38;5;167;01mAttributeError\u001b[39;00m \u001b[38;5;28;01mas\u001b[39;00m err:\n",
      "\u001b[1;31mProgrammingError\u001b[0m: 1091 (42000): Can't DROP 'ips'; check that column/key exists",
      "\nDuring handling of the above exception, another exception occurred:\n",
      "\u001b[1;31mNameError\u001b[0m                                 Traceback (most recent call last)",
      "Cell \u001b[1;32mIn [103], line 2\u001b[0m\n\u001b[0;32m      1\u001b[0m \u001b[38;5;66;03m#Dropping a Column to the Products table using \"ALTER\"\u001b[39;00m\n\u001b[1;32m----> 2\u001b[0m \u001b[43mDDL\u001b[49m\u001b[38;5;241;43m.\u001b[39;49m\u001b[43malter_table\u001b[49m\u001b[43m(\u001b[49m\u001b[43mcursor\u001b[49m\u001b[43m,\u001b[49m\u001b[43m \u001b[49m\u001b[38;5;124;43m'\u001b[39;49m\u001b[38;5;124;43mproducts\u001b[39;49m\u001b[38;5;124;43m'\u001b[39;49m\u001b[43m,\u001b[49m\u001b[43m \u001b[49m\u001b[38;5;124;43m'\u001b[39;49m\u001b[38;5;124;43mALTER TABLE products DROP COLUMN ips;\u001b[39;49m\u001b[38;5;124;43m'\u001b[39;49m\u001b[43m)\u001b[49m\n",
      "File \u001b[1;32m~\\project_p0\\DDL.py:41\u001b[0m, in \u001b[0;36malter_table\u001b[1;34m(cursor, table_name, alter_query)\u001b[0m\n\u001b[0;32m     39\u001b[0m     cursor\u001b[38;5;241m.\u001b[39mexecute(alter_query)\n\u001b[0;32m     40\u001b[0m     \u001b[38;5;28mprint\u001b[39m(\u001b[38;5;124mf\u001b[39m\u001b[38;5;124m\"\u001b[39m\u001b[38;5;124mTable \u001b[39m\u001b[38;5;124m'\u001b[39m\u001b[38;5;132;01m{\u001b[39;00mtable_name\u001b[38;5;132;01m}\u001b[39;00m\u001b[38;5;124m'\u001b[39m\u001b[38;5;124m altered successfully.\u001b[39m\u001b[38;5;124m\"\u001b[39m)\n\u001b[1;32m---> 41\u001b[0m \u001b[38;5;28;01mexcept\u001b[39;00m \u001b[43mmysql\u001b[49m\u001b[38;5;241m.\u001b[39mconnector\u001b[38;5;241m.\u001b[39mError \u001b[38;5;28;01mas\u001b[39;00m err:\n\u001b[0;32m     42\u001b[0m     \u001b[38;5;28mprint\u001b[39m(\u001b[38;5;124mf\u001b[39m\u001b[38;5;124m\"\u001b[39m\u001b[38;5;124mError: \u001b[39m\u001b[38;5;132;01m{\u001b[39;00merr\u001b[38;5;132;01m}\u001b[39;00m\u001b[38;5;124m\"\u001b[39m)\n",
      "\u001b[1;31mNameError\u001b[0m: name 'mysql' is not defined"
     ]
    }
   ],
   "source": [
    "#Dropping a Column to the Products table using \"ALTER\"\n",
    "DDL.alter_table(cursor, 'products', 'ALTER TABLE products DROP COLUMN ips;')"
   ]
  },
  {
   "cell_type": "code",
   "execution_count": 101,
   "id": "97c991e0-b7d1-4878-9948-aa7a0d285327",
   "metadata": {},
   "outputs": [
    {
     "name": "stdout",
     "output_type": "stream",
     "text": [
      "Structure of table 'products':\n",
      "('product_id', 'int', 'NO', 'PRI', None, '')\n",
      "('product_name', 'varchar(255)', 'NO', '', None, '')\n",
      "('product_category', 'varchar(100)', 'YES', '', None, '')\n"
     ]
    }
   ],
   "source": [
    "DDL.describe_table(cursor,\"products\")"
   ]
  },
  {
   "cell_type": "code",
   "execution_count": 61,
   "id": "a4eda493-e6b0-444a-87ec-b8015d41d0e0",
   "metadata": {},
   "outputs": [
    {
     "name": "stdout",
     "output_type": "stream",
     "text": [
      "Table 'man' created successfully.\n"
     ]
    }
   ],
   "source": [
    "# drop and truncate\n",
    "create_table_query = '''\n",
    "CREATE TABLE man (\n",
    "    id INT,\n",
    "    name VARCHAR(100)\n",
    ");\n",
    "'''\n",
    "DDL.create_table(cursor, \"man\", create_table_query)"
   ]
  },
  {
   "cell_type": "code",
   "execution_count": 62,
   "id": "d5beaf53-3cee-44a2-ada2-78140a812240",
   "metadata": {},
   "outputs": [
    {
     "name": "stdout",
     "output_type": "stream",
     "text": [
      "Table 'man' truncated successfully.\n"
     ]
    }
   ],
   "source": [
    "#Truncate a Table\n",
    "DDL.truncate_table(cursor, \"man\")"
   ]
  },
  {
   "cell_type": "code",
   "execution_count": 63,
   "id": "6a91d631-0453-4efb-8fff-95009b5a0265",
   "metadata": {},
   "outputs": [
    {
     "name": "stdout",
     "output_type": "stream",
     "text": [
      "Table 'man' dropped successfully.\n"
     ]
    }
   ],
   "source": [
    "#Drop a Table\n",
    "DDL.drop_table(cursor, \"man\")"
   ]
  },
  {
   "cell_type": "code",
   "execution_count": 64,
   "id": "9e61c112-4e41-4ab0-acdb-8ceb50a25e5c",
   "metadata": {},
   "outputs": [
    {
     "name": "stdout",
     "output_type": "stream",
     "text": [
      "Tables:\n",
      "customers\n",
      "ecommerce_websites\n",
      "orders\n",
      "payment_transactions\n",
      "payments\n",
      "products\n",
      "transactions\n"
     ]
    }
   ],
   "source": [
    "DDL.view_tables(cursor)"
   ]
  },
  {
   "cell_type": "code",
   "execution_count": null,
   "id": "a8f39c1f-d2fc-44f2-bdb9-5e74d6035b45",
   "metadata": {},
   "outputs": [],
   "source": []
  },
  {
   "cell_type": "code",
   "execution_count": 65,
   "id": "b53b2a3d-12d7-40ce-97eb-9ddffdd81cac",
   "metadata": {},
   "outputs": [],
   "source": [
    "# Import user-defined module 'DML' for performing DML commands\n",
    "import DML"
   ]
  },
  {
   "cell_type": "code",
   "execution_count": 53,
   "id": "a1f103c2-5142-4e91-842f-0bbb699ceffa",
   "metadata": {},
   "outputs": [
    {
     "name": "stdout",
     "output_type": "stream",
     "text": [
      "Query executed successfully.\n",
      "Query executed successfully.\n",
      "Query executed successfully.\n",
      "Query executed successfully.\n",
      "Query executed successfully.\n"
     ]
    }
   ],
   "source": [
    "# Insert into 'customers' table\n",
    "DML.insert_data(cursor, 'customers', ['customer_id', 'customer_name', 'country', 'city'], (9780, 'Jessica Hart', 'Martinique', 'South William'))\n",
    "DML.insert_data(cursor, 'customers', ['customer_id', 'customer_name', 'country', 'city'], (9169, 'Amy Clark', 'Kazakhstan', 'Davisville'))\n",
    "DML.insert_data(cursor, 'customers', ['customer_id', 'customer_name', 'country', 'city'], (6631, 'Danielle Elliott', 'Armenia', 'East Danny'))\n",
    "DML.insert_data(cursor, 'customers', ['customer_id', 'customer_name', 'country', 'city'], (8772, 'Robin Mendoza', 'Uganda', 'Johnsonbury'))\n",
    "DML.insert_data(cursor, 'customers', ['customer_id', 'customer_name', 'country', 'city'], (8913, 'Abigail Miller', 'Namibia', 'Wrightchester'))\n"
   ]
  },
  {
   "cell_type": "code",
   "execution_count": 54,
   "id": "afebd76b-bf48-442b-afd8-f9d707cbf50f",
   "metadata": {},
   "outputs": [
    {
     "name": "stdout",
     "output_type": "stream",
     "text": [
      "Query executed successfully.\n",
      "Query executed successfully.\n",
      "Query executed successfully.\n",
      "Query executed successfully.\n",
      "Query executed successfully.\n"
     ]
    }
   ],
   "source": [
    "# Insert into 'ecommerce_websites' table\n",
    "DML.insert_data(cursor, 'ecommerce_websites', ['website_id', 'ecommerce_website_name'], (1, 'www.bestbuy.com'))\n",
    "DML.insert_data(cursor, 'ecommerce_websites', ['website_id', 'ecommerce_website_name'], (2, 'www.flipkart.com'))\n",
    "DML.insert_data(cursor, 'ecommerce_websites', ['website_id', 'ecommerce_website_name'], (3, 'www.target.com'))\n",
    "DML.insert_data(cursor, 'ecommerce_websites', ['website_id', 'ecommerce_website_name'], (4, 'www.amazon.in'))\n",
    "DML.insert_data(cursor, 'ecommerce_websites', ['website_id', 'ecommerce_website_name'], (5, 'www.etsy.com'))\n",
    "\n"
   ]
  },
  {
   "cell_type": "code",
   "execution_count": 55,
   "id": "9dd60fbf-9893-4558-8359-383a43174aca",
   "metadata": {},
   "outputs": [
    {
     "name": "stdout",
     "output_type": "stream",
     "text": [
      "Query executed successfully.\n",
      "Query executed successfully.\n",
      "Query executed successfully.\n",
      "Query executed successfully.\n",
      "Query executed successfully.\n"
     ]
    }
   ],
   "source": [
    "# Insert into 'payment_transactions' table\n",
    "DML.insert_data(cursor, 'payment_transactions', ['payment_txn_id', 'payment_txn_success', 'failure_reason'], ('a395e8c7', False, 'Card Expired'))\n",
    "DML.insert_data(cursor, 'payment_transactions', ['payment_txn_id', 'payment_txn_success', 'failure_reason'], ('b40791f8', False, 'Invalid CVV'))\n",
    "DML.insert_data(cursor, 'payment_transactions', ['payment_txn_id', 'payment_txn_success', 'failure_reason'], ('7fb6cca9', False, 'Blocked Card'))\n",
    "DML.insert_data(cursor, 'payment_transactions', ['payment_txn_id', 'payment_txn_success', 'failure_reason'], ('cae677f3', False, 'Transaction Timeout'))\n",
    "DML.insert_data(cursor, 'payment_transactions', ['payment_txn_id', 'payment_txn_success', 'failure_reason'], ('fbce1649', False, 'Invalid CVV'))\n"
   ]
  },
  {
   "cell_type": "code",
   "execution_count": null,
   "id": "df290b54-ce48-431a-b911-350a206f6b40",
   "metadata": {},
   "outputs": [],
   "source": []
  },
  {
   "cell_type": "code",
   "execution_count": 109,
   "id": "dfe271c4-9f4d-4710-80b8-97ece841d5d0",
   "metadata": {},
   "outputs": [],
   "source": [
    "cursor.execute(\"truncate table transactions\")"
   ]
  },
  {
   "cell_type": "code",
   "execution_count": 56,
   "id": "d6d0cace-f7c7-471d-aa0d-df75b2fe4b70",
   "metadata": {},
   "outputs": [
    {
     "name": "stdout",
     "output_type": "stream",
     "text": [
      "Query executed successfully.\n",
      "Query executed successfully.\n",
      "Query executed successfully.\n",
      "Query executed successfully.\n",
      "Query executed successfully.\n"
     ]
    }
   ],
   "source": [
    "# Insert into 'products' table\n",
    "DML.insert_data(cursor, 'products', ['product_id', 'product_name', 'product_category'], (8609, 'Central home & kitche', 'Home & Kitchen'))\n",
    "DML.insert_data(cursor, 'products', ['product_id', 'product_name', 'product_category'], (2409, 'Upon sport', 'Sports'))\n",
    "DML.insert_data(cursor, 'products', ['product_id', 'product_name', 'product_category'], (1145, 'Across stationer', 'Stationery'))\n",
    "DML.insert_data(cursor, 'products', ['product_id', 'product_name', 'product_category'], (8375, 'Start home & kitche', 'Home & Kitchen'))\n",
    "DML.insert_data(cursor, 'products', ['product_id', 'product_name', 'product_category'], (2149, 'Draw beaut', 'Beauty'))\n"
   ]
  },
  {
   "cell_type": "code",
   "execution_count": 110,
   "id": "c849324e-d60c-4b60-904e-1cd76c5640ba",
   "metadata": {},
   "outputs": [
    {
     "name": "stdout",
     "output_type": "stream",
     "text": [
      "Query executed successfully.\n",
      "Query executed successfully.\n",
      "Query executed successfully.\n",
      "Query executed successfully.\n",
      "Query executed successfully.\n"
     ]
    }
   ],
   "source": [
    "# Insert into 'transactions' table\n",
    "DML.insert_data(cursor, 'transactions', ['order_id', 'customer_id', 'product_id', 'qty', 'price', 'datetime', 'ecommerce_website_id', 'payment_txn_id'], \n",
    "        (1, 9780, 8609, 25, 64216, '2021-07-26 20:16:14', 1, 'a395e8c7'))\n",
    "DML.insert_data(cursor, 'transactions', ['order_id', 'customer_id', 'product_id', 'qty', 'price', 'datetime', 'ecommerce_website_id', 'payment_txn_id'], \n",
    "                (2, 9169, 2409, 34, 69877, '2021-08-25 03:41:32', 2, 'b40791f8'))\n",
    "DML.insert_data(cursor, 'transactions', ['order_id', 'customer_id', 'product_id', 'qty', 'price', 'datetime', 'ecommerce_website_id', 'payment_txn_id'], \n",
    "                (3, 6631, 1145, 28, 35491, '2024-06-21 21:39:21', 3, '7fb6cca9'))\n",
    "DML.insert_data(cursor, 'transactions', ['order_id', 'customer_id', 'product_id', 'qty', 'price', 'datetime', 'ecommerce_website_id', 'payment_txn_id'], \n",
    "                (4, 8772, 8375, 33, 39540, '2022-09-17 13:52:11', 4, 'cae677f3'))\n",
    "DML.insert_data(cursor, 'transactions', ['order_id', 'customer_id', 'product_id', 'qty', 'price', 'datetime', 'ecommerce_website_id', 'payment_txn_id'], \n",
    "                (5, 8913, 2149, 27, 80635, '2022-03-09 07:58:08', 5, 'fbce1649'))"
   ]
  },
  {
   "cell_type": "code",
   "execution_count": 68,
   "id": "b20894c0-ac2e-461a-a7ff-48b505b3e04d",
   "metadata": {},
   "outputs": [
    {
     "name": "stdout",
     "output_type": "stream",
     "text": [
      "(1, 'customer_name', 'country', 'city')\n",
      "(2, 'manoj', 'India', 'mysuru')\n",
      "(4, 'Charlie', 'UK', 'London')\n",
      "(5, 'David', 'India', 'Mumbai')\n",
      "(6, 'Eve', 'Australia', 'Sydney')\n",
      "(6631, 'Danielle Elliott', 'Armenia', 'East Danny')\n",
      "(8772, 'Robin Mendoza', 'Uganda', 'Johnsonbury')\n",
      "(8913, 'Abigail Miller', 'Namibia', 'Wrightchester')\n",
      "(9169, 'Amy Clark', 'Kazakhstan', 'Davisville')\n",
      "(9780, 'Jessica Hart', 'Martinique', 'South William')\n"
     ]
    }
   ],
   "source": [
    "# Call the select_data function to retrieve and print data from the 'customers' table\n",
    "DML.select_data(cursor, 'customers', columns='*', condition=None)  "
   ]
  },
  {
   "cell_type": "code",
   "execution_count": 69,
   "id": "ae9cbc29-c5dc-4691-908f-6791b88ff2fd",
   "metadata": {},
   "outputs": [
    {
     "name": "stdout",
     "output_type": "stream",
     "text": [
      "(4, 'www.amazon.in')\n",
      "(1, 'www.bestbuy.com')\n",
      "(5, 'www.etsy.com')\n",
      "(2, 'www.flipkart.com')\n",
      "(3, 'www.target.com')\n"
     ]
    }
   ],
   "source": [
    "# Call the select_data function to retrieve and print data from the 'ecommerce_websites' table\n",
    "DML.select_data(cursor, 'ecommerce_websites', columns='*', condition=None)  "
   ]
  },
  {
   "cell_type": "code",
   "execution_count": 73,
   "id": "f37bd4ae-d8af-4a4a-9a01-92b478553ff5",
   "metadata": {},
   "outputs": [
    {
     "name": "stdout",
     "output_type": "stream",
     "text": [
      "('7fb6cca9', 0, 'Blocked Card')\n",
      "('a395e8c7', 0, 'Card Expired')\n",
      "('b40791f8', 0, 'Invalid CVV')\n",
      "('cae677f3', 0, 'Transaction Timeout')\n",
      "('fbce1649', 0, 'Invalid CVV')\n"
     ]
    }
   ],
   "source": [
    "# Call the select_data function to retrieve and print data from the 'payment_transactions' table\n",
    "DML.select_data(cursor, 'payment_transactions', columns='*', condition=None)  "
   ]
  },
  {
   "cell_type": "code",
   "execution_count": 74,
   "id": "24522ef3-fc05-47ee-843e-2916c72319fd",
   "metadata": {},
   "outputs": [
    {
     "name": "stdout",
     "output_type": "stream",
     "text": [
      "(1, 'Alice Johnson', 'Engineer')\n",
      "(2, 'Johnson', 'Endfsghd')\n",
      "(1145, 'Across stationer', 'Stationery')\n",
      "(2149, 'Draw beaut', 'Beauty')\n",
      "(2409, 'Upon sport', 'Sports')\n",
      "(8375, 'Start home & kitche', 'Home & Kitchen')\n",
      "(8609, 'Central home & kitche', 'Home & Kitchen')\n"
     ]
    }
   ],
   "source": [
    "# Call the select_data function to retrieve and print data from the 'products' table\n",
    "DML.select_data(cursor, 'products', columns='*', condition=None)  "
   ]
  },
  {
   "cell_type": "code",
   "execution_count": 75,
   "id": "dd5d1c98-703a-4578-a982-4ecc55a4ecd0",
   "metadata": {},
   "outputs": [],
   "source": [
    "# Call the select_data function to retrieve and print data from the 'transactions' table\n",
    "DML.select_data(cursor, 'transactions', columns='*', condition=None)  "
   ]
  },
  {
   "cell_type": "code",
   "execution_count": 76,
   "id": "68a73379-c363-4e35-8c90-8d072ab84720",
   "metadata": {},
   "outputs": [
    {
     "name": "stdout",
     "output_type": "stream",
     "text": [
      "(1,)\n",
      "(2,)\n",
      "(1145,)\n",
      "(2149,)\n",
      "(2409,)\n",
      "(8375,)\n",
      "(8609,)\n"
     ]
    }
   ],
   "source": [
    "# Call the select_data function to retrieve and print data from the 'products' table\n",
    "DML.select_data(cursor, 'products', columns='product_id', condition=None)"
   ]
  },
  {
   "cell_type": "code",
   "execution_count": 77,
   "id": "be686364-8bf2-42f8-94b3-fe65f43f0cd5",
   "metadata": {},
   "outputs": [
    {
     "name": "stdout",
     "output_type": "stream",
     "text": [
      "Query executed successfully.\n"
     ]
    }
   ],
   "source": [
    "# Update the 'product_name' to 'Alice Smith' in the 'products' table where the 'product_id' is 2\n",
    "DML.update_data(cursor, 'products', 'product_name = \\'Alice Smith\\'', 'product_id = 2')"
   ]
  },
  {
   "cell_type": "code",
   "execution_count": 78,
   "id": "d5e5428d-abba-4562-ba26-b127ccaa6c73",
   "metadata": {},
   "outputs": [
    {
     "name": "stdout",
     "output_type": "stream",
     "text": [
      "(1, 'Alice Johnson')\n",
      "(2, 'Alice Smith')\n",
      "(1145, 'Across stationer')\n",
      "(2149, 'Draw beaut')\n",
      "(2409, 'Upon sport')\n",
      "(8375, 'Start home & kitche')\n",
      "(8609, 'Central home & kitche')\n"
     ]
    }
   ],
   "source": [
    "DML.select_data(cursor, 'products', columns='product_id, product_name', condition=None)"
   ]
  },
  {
   "cell_type": "code",
   "execution_count": 79,
   "id": "22d35b98-0776-4a17-9164-7a2d81e25d8a",
   "metadata": {},
   "outputs": [
    {
     "name": "stdout",
     "output_type": "stream",
     "text": [
      "Query executed successfully.\n"
     ]
    }
   ],
   "source": [
    "DML.update_data(cursor, 'products', 'product_name = \\'Johnson\\'', 'product_id = 2')"
   ]
  },
  {
   "cell_type": "code",
   "execution_count": 80,
   "id": "938d40fc-068c-4266-b363-7c86b0d203a4",
   "metadata": {},
   "outputs": [
    {
     "name": "stdout",
     "output_type": "stream",
     "text": [
      "(1, 'Alice Johnson')\n",
      "(2, 'Johnson')\n",
      "(1145, 'Across stationer')\n",
      "(2149, 'Draw beaut')\n",
      "(2409, 'Upon sport')\n",
      "(8375, 'Start home & kitche')\n",
      "(8609, 'Central home & kitche')\n"
     ]
    }
   ],
   "source": [
    "DML.select_data(cursor, 'products', columns='product_id, product_name', condition=None)"
   ]
  },
  {
   "cell_type": "code",
   "execution_count": 82,
   "id": "d790a9ca-fb8a-4ae1-a09a-9c0e0814e8ab",
   "metadata": {},
   "outputs": [
    {
     "name": "stdout",
     "output_type": "stream",
     "text": [
      "Query executed successfully.\n"
     ]
    }
   ],
   "source": [
    "DML.insert_data(cursor, 'products', ['product_id', 'product_name', 'product_category'], (1219, 'Kirk Yagami', 'Anime'))"
   ]
  },
  {
   "cell_type": "code",
   "execution_count": 83,
   "id": "b630df46-3c40-44a2-886c-c3acdeae0b64",
   "metadata": {},
   "outputs": [
    {
     "name": "stdout",
     "output_type": "stream",
     "text": [
      "(1, 'Alice Johnson', 'Engineer')\n",
      "(2, 'Johnson', 'Endfsghd')\n",
      "(1145, 'Across stationer', 'Stationery')\n",
      "(1219, 'Kirk Yagami', 'Anime')\n",
      "(2149, 'Draw beaut', 'Beauty')\n",
      "(2409, 'Upon sport', 'Sports')\n",
      "(8375, 'Start home & kitche', 'Home & Kitchen')\n",
      "(8609, 'Central home & kitche', 'Home & Kitchen')\n"
     ]
    }
   ],
   "source": [
    "DML.select_data(cursor, 'products', columns='*', condition=None)  "
   ]
  },
  {
   "cell_type": "code",
   "execution_count": 84,
   "id": "6be52d92-5a86-4b5f-8cfd-a2c97407ed8f",
   "metadata": {},
   "outputs": [
    {
     "name": "stdout",
     "output_type": "stream",
     "text": [
      "Query executed successfully.\n"
     ]
    }
   ],
   "source": [
    "# Delete the record from the 'products' table where the product_id is 1\n",
    "DML.delete_data(cursor, 'products', 'product_id = 1219')"
   ]
  },
  {
   "cell_type": "code",
   "execution_count": 85,
   "id": "1480651a-20ad-4a8d-a005-299fc2119331",
   "metadata": {},
   "outputs": [
    {
     "name": "stdout",
     "output_type": "stream",
     "text": [
      "(1, 'Alice Johnson', 'Engineer')\n",
      "(2, 'Johnson', 'Endfsghd')\n",
      "(1145, 'Across stationer', 'Stationery')\n",
      "(2149, 'Draw beaut', 'Beauty')\n",
      "(2409, 'Upon sport', 'Sports')\n",
      "(8375, 'Start home & kitche', 'Home & Kitchen')\n",
      "(8609, 'Central home & kitche', 'Home & Kitchen')\n"
     ]
    }
   ],
   "source": [
    "DML.select_data(cursor, 'products', columns='*', condition=None)"
   ]
  },
  {
   "cell_type": "code",
   "execution_count": 98,
   "id": "07158883-6d51-4cc5-82a0-e48e78f6d7a7",
   "metadata": {},
   "outputs": [
    {
     "name": "stdout",
     "output_type": "stream",
     "text": [
      "Query executed successfully.\n",
      "Query executed successfully.\n",
      "Query executed successfully.\n",
      "Query executed successfully.\n",
      "Query executed successfully.\n"
     ]
    }
   ],
   "source": [
    "DML.delete_data(cursor, 'customers', 'customer_name = \\'Alice Johnson\\'')\n",
    "DML.delete_data(cursor, 'customers', 'customer_name = \\'Johnson\\'')\n",
    "DML.delete_data(cursor, 'customers', 'customer_name = \\'Charlie\\'')\n",
    "DML.delete_data(cursor, 'customers', 'customer_name = \\'David\\'')\n",
    "DML.delete_data(cursor, 'customers', 'customer_name = \\'Eve\\'')"
   ]
  },
  {
   "cell_type": "code",
   "execution_count": 99,
   "id": "b2046c2c-c07f-4a2e-9c60-ca221ab2187b",
   "metadata": {},
   "outputs": [
    {
     "name": "stdout",
     "output_type": "stream",
     "text": [
      "(6631, 'Danielle Elliott', 'Armenia', 'East Danny')\n",
      "(8772, 'Robin Mendoza', 'Uganda', 'Johnsonbury')\n",
      "(8913, 'Abigail Miller', 'Namibia', 'Wrightchester')\n",
      "(9169, 'Amy Clark', 'Kazakhstan', 'Davisville')\n",
      "(9780, 'Jessica Hart', 'Martinique', 'South William')\n"
     ]
    }
   ],
   "source": [
    "DML.select_data(cursor, 'customers', columns='*', condition=None)"
   ]
  },
  {
   "cell_type": "code",
   "execution_count": null,
   "id": "01534acc-bbcb-4e0b-8893-4c7016bb392f",
   "metadata": {},
   "outputs": [],
   "source": []
  }
 ],
 "metadata": {
  "kernelspec": {
   "display_name": "Python 3 (ipykernel)",
   "language": "python",
   "name": "python3"
  },
  "language_info": {
   "codemirror_mode": {
    "name": "ipython",
    "version": 3
   },
   "file_extension": ".py",
   "mimetype": "text/x-python",
   "name": "python",
   "nbconvert_exporter": "python",
   "pygments_lexer": "ipython3",
   "version": "3.10.1"
  }
 },
 "nbformat": 4,
 "nbformat_minor": 5
}
